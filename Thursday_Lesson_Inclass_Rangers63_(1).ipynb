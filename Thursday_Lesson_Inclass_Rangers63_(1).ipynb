{
  "cells": [
    {
      "cell_type": "markdown",
      "metadata": {
        "id": "VOZ3P0HZ3iLs"
      },
      "source": [
        "# Object-Oriented-Programming (OOP)"
      ]
    },
    {
      "cell_type": "markdown",
      "metadata": {
        "id": "Rr5P0GpK3iLw"
      },
      "source": [
        "## Tasks Today:\n",
        "\n",
        "   \n",
        "\n",
        "1) <b>Creating a Class (Initializing/Declaring)</b> <br>\n",
        "2) <b>Using a Class (Instantiating)</b> <br>\n",
        " &nbsp;&nbsp;&nbsp;&nbsp; a) Creating One Instance <br>\n",
        " &nbsp;&nbsp;&nbsp;&nbsp; b) Creating Multiple Instances <br>\n",
        " &nbsp;&nbsp;&nbsp;&nbsp; c) In-Class Exercise #1 - Create a Class 'Car' and instantiate three different makes of cars <br>\n",
        "3) <b>The \\__init\\__() Method</b> <br>\n",
        " &nbsp;&nbsp;&nbsp;&nbsp; a) The 'self' Attribute <br>\n",
        "4) <b>Class Attributes</b> <br>\n",
        " &nbsp;&nbsp;&nbsp;&nbsp; a) Initializing Attributes <br>\n",
        " &nbsp;&nbsp;&nbsp;&nbsp; b) Setting an Attribute Outside of the \\__init\\__() Method <br>\n",
        " &nbsp;&nbsp;&nbsp;&nbsp; c) Setting Defaults for Attributes <br>\n",
        " &nbsp;&nbsp;&nbsp;&nbsp; d) Accessing Class Attributes <br>\n",
        " &nbsp;&nbsp;&nbsp;&nbsp; e) Changing Class Attributes <br>\n",
        " &nbsp;&nbsp;&nbsp;&nbsp; f) In-Class Exercise #2 - Add a color and wheels attribute to your 'Car' class <br>\n",
        "5) <b>Class Methods</b> <br>\n",
        " &nbsp;&nbsp;&nbsp;&nbsp; a) Creating <br>\n",
        " &nbsp;&nbsp;&nbsp;&nbsp; b) Calling <br>\n",
        " &nbsp;&nbsp;&nbsp;&nbsp; c) Modifying an Attribute's Value Through a Method <br>\n",
        " &nbsp;&nbsp;&nbsp;&nbsp; d) Incrementing an Attribute's Value Through a Method <br>\n",
        " &nbsp;&nbsp;&nbsp;&nbsp; e) In-Class Exercise #3 - Add a method that prints the cars color and wheel number, then call them <br>\n",
        "6) <b>Inheritance</b> <br>\n",
        " &nbsp;&nbsp;&nbsp;&nbsp; a) Syntax for Inheriting from a Parent Class <br>\n",
        " &nbsp;&nbsp;&nbsp;&nbsp; b) The \\__init\\__() Method for a Child Class (super()) <br>\n",
        " &nbsp;&nbsp;&nbsp;&nbsp; c) Defining Attributes and Methods for the Child Class <br>\n",
        " &nbsp;&nbsp;&nbsp;&nbsp; d) Method Overriding <br>\n",
        " &nbsp;&nbsp;&nbsp;&nbsp; e) In-Class Exercise #4 - Create a class 'Ford' that inherits from 'Car' class and initialize it as a Blue Ford Explorer with 4 wheels using the super() method <br>\n",
        "7) <b>Classes as Attributes</b> <br>\n",
        "8) <b>Exercises</b> <br>\n",
        " &nbsp;&nbsp;&nbsp;&nbsp; a) Exercise #1 - Turn the shopping cart program from yesterday into an object-oriented program <br>"
      ]
    },
    {
      "cell_type": "markdown",
      "metadata": {
        "id": "qWjMuyCA3iLz"
      },
      "source": [
        "## Creating a Class (Initializing/Declaring)\n",
        "<p>When creating a class, function, or even a variable you are initializing that object. Initializing and Declaring occur at the same time in Python, whereas in lower level languages you have to declare an object before initializing it. This is the first step in the process of using a class.</p>"
      ]
    },
    {
      "cell_type": "code",
      "execution_count": null,
      "metadata": {
        "id": "3T-TWypJ3iL1"
      },
      "outputs": [],
      "source": [
        "# it is convention to captilize the class\n",
        "class Car():\n",
        "    wheels = 4\n",
        "    color = 'blue'"
      ]
    },
    {
      "cell_type": "markdown",
      "metadata": {
        "id": "b9UYpfkB3iL2"
      },
      "source": [
        "## Using a Class (Instantiating)\n",
        "<p>The process of creating a class is called <i>Instantiating</i>. Each time you create a variable of that type of class, it is referred to as an <i>Instance</i> of that class. This is the second step in the process of using a class.</p>"
      ]
    },
    {
      "cell_type": "markdown",
      "metadata": {
        "id": "Jy1h4_Iq3iL3"
      },
      "source": [
        "##### Creating One Instance"
      ]
    },
    {
      "cell_type": "code",
      "execution_count": null,
      "metadata": {
        "colab": {
          "base_uri": "https://localhost:8080/"
        },
        "id": "GfL_CYYR3iL4",
        "outputId": "c5436725-d112-45f0-a559-cf84a24c4253"
      },
      "outputs": [
        {
          "name": "stdout",
          "output_type": "stream",
          "text": [
            "4\n"
          ]
        }
      ],
      "source": [
        "ford = Car()\n",
        "print(ford.wheels)"
      ]
    },
    {
      "cell_type": "markdown",
      "metadata": {
        "id": "kdk9PqjB3iL5"
      },
      "source": [
        "##### Creating Multiple Instances"
      ]
    },
    {
      "cell_type": "code",
      "execution_count": null,
      "metadata": {
        "colab": {
          "base_uri": "https://localhost:8080/",
          "height": 228
        },
        "id": "8DU_JuOC3iL7",
        "outputId": "23e5b720-426c-4d52-ea5a-ee8419bed6e3"
      },
      "outputs": [
        {
          "name": "stdout",
          "output_type": "stream",
          "text": [
            "<class 'str'>\n"
          ]
        },
        {
          "ename": "AttributeError",
          "evalue": "ignored",
          "output_type": "error",
          "traceback": [
            "\u001b[0;31m---------------------------------------------------------------------------\u001b[0m",
            "\u001b[0;31mAttributeError\u001b[0m                            Traceback (most recent call last)",
            "\u001b[0;32m<ipython-input-12-26b84cfa064d>\u001b[0m in \u001b[0;36m<cell line: 7>\u001b[0;34m()\u001b[0m\n\u001b[1;32m      5\u001b[0m \u001b[0mprint\u001b[0m\u001b[0;34m(\u001b[0m\u001b[0mtype\u001b[0m\u001b[0;34m(\u001b[0m\u001b[0mporshe\u001b[0m\u001b[0;34m.\u001b[0m\u001b[0mcolor\u001b[0m\u001b[0;34m)\u001b[0m\u001b[0;34m)\u001b[0m\u001b[0;34m\u001b[0m\u001b[0;34m\u001b[0m\u001b[0m\n\u001b[1;32m      6\u001b[0m \u001b[0;31m#Trying use a function that does not exist\u001b[0m\u001b[0;34m\u001b[0m\u001b[0;34m\u001b[0m\u001b[0m\n\u001b[0;32m----> 7\u001b[0;31m \u001b[0mprint\u001b[0m\u001b[0;34m(\u001b[0m\u001b[0mporshe\u001b[0m\u001b[0;34m.\u001b[0m\u001b[0mbumper\u001b[0m\u001b[0;34m)\u001b[0m\u001b[0;34m\u001b[0m\u001b[0;34m\u001b[0m\u001b[0m\n\u001b[0m",
            "\u001b[0;31mAttributeError\u001b[0m: 'Car' object has no attribute 'bumper'"
          ]
        }
      ],
      "source": [
        "toyota = Car()\n",
        "honda = Car()\n",
        "porshe = Car()\n",
        "\n",
        "print(type(porshe.color))\n",
        "#Trying use a function that does not exist\n",
        "print(porshe.bumper)"
      ]
    },
    {
      "cell_type": "markdown",
      "metadata": {
        "id": "1PwOfEi33iL9"
      },
      "source": [
        "##### In-Class Exercise #1 - Create a Class 'Car' and Instantiate three different makes of cars"
      ]
    },
    {
      "cell_type": "code",
      "execution_count": null,
      "metadata": {
        "colab": {
          "base_uri": "https://localhost:8080/"
        },
        "id": "Xa0odPGA3iL9",
        "outputId": "85452579-b8d0-4ce5-b4ae-d43410e4689b"
      },
      "outputs": [
        {
          "name": "stdout",
          "output_type": "stream",
          "text": [
            "civic\n",
            "cayanne\n",
            "scion\n"
          ]
        }
      ],
      "source": [
        "class Car():\n",
        "  engine = \"4.7L\"\n",
        "\n",
        "  def __init__(self,wheels,make):\n",
        "    self.wheels = wheels\n",
        "    self.color = \"blue\" #You cannot overwrite that value\n",
        "    #notice its not inluded in the code, yet is a valid method for car\n",
        "    self.make =make\n",
        "    door = 4\n",
        "    steats = 4\n",
        "    wheels = 4\n",
        "    color = 'blue'\n",
        "    side_mirrors = \"standard two view\"\n",
        "\n",
        "\n",
        "\n",
        "honda = Car(4,\"civic\")\n",
        "porshe = Car(4, \"cayanne\")\n",
        "toyota = Car(4, \"scion\")\n",
        "\n",
        "print(honda.make)\n",
        "print(porshe.make)\n",
        "print(toyota.make)\n",
        "\n",
        "\n",
        "\n"
      ]
    },
    {
      "cell_type": "markdown",
      "metadata": {
        "id": "c9GEf4vl3iL-"
      },
      "source": [
        "## The \\__init\\__() Method <br>\n",
        "<p>This method is used in almost every created class, and called only once upon the creation of the class instance. This method will initialize all variables needed for the object.</p>"
      ]
    },
    {
      "cell_type": "code",
      "execution_count": null,
      "metadata": {
        "colab": {
          "base_uri": "https://localhost:8080/"
        },
        "id": "9ZiMrrh83iL_",
        "outputId": "5ad0abb6-09cc-4487-9f74-6b060bc04cf0"
      },
      "outputs": [
        {
          "name": "stdout",
          "output_type": "stream",
          "text": [
            "4\n",
            "6\n",
            "4.L\n"
          ]
        }
      ],
      "source": [
        "class Car():\n",
        "    engine = \"4.L\" # Constant Attribute\n",
        "    #auotmatically created the momement a class is created allows for the\n",
        "    #inserting of varialbes even though the variables\n",
        "    def __init__(self, wheels, color):\n",
        "        self.wheels = wheels\n",
        "        self.color = color\n",
        "ford = Car(4,'red')\n",
        "chevy = Car(6,\"black\")\n",
        "\n",
        "print(ford.wheels)\n",
        "print(chevy.wheels)\n",
        "print(ford.engine)"
      ]
    },
    {
      "cell_type": "markdown",
      "metadata": {
        "id": "EM9kWyhy3iL_"
      },
      "source": [
        "##### The 'self' Attribute <br>\n",
        "<p>This attribute is required to keep track of specific instance's attributes. Without the self attribute, the program would not know how to reference or keep track of an instance's attributes.</p>"
      ]
    },
    {
      "cell_type": "code",
      "execution_count": null,
      "metadata": {
        "id": "2Lct7QNL3iMA"
      },
      "outputs": [],
      "source": [
        "# see above\n",
        "\n",
        "#Class Name():\n",
        "\n",
        "# int\n",
        "# This are the variables that we want to use with all our function\n",
        "# what self does\n",
        "\n",
        "#controll function telling other what to do, all telling you something different\n",
        "#If function:\n",
        "#Classing functon\n"
      ]
    },
    {
      "cell_type": "markdown",
      "metadata": {
        "id": "xZiOEJ1J3iMA"
      },
      "source": [
        "## Class Attributes <br>\n",
        "<p>While variables are inside of a class, they are referred to as attributes and not variables. When someone says 'attribute' you know they're speaking about a class. Attributes can be initialized through the init method, or outside of it.</p>"
      ]
    },
    {
      "cell_type": "markdown",
      "metadata": {
        "id": "hSubDmYh3iMA"
      },
      "source": [
        "##### Initializing Attributes"
      ]
    },
    {
      "cell_type": "code",
      "execution_count": null,
      "metadata": {
        "colab": {
          "base_uri": "https://localhost:8080/"
        },
        "id": "Ud5DkjHE3iMB",
        "outputId": "96463c5c-1838-494f-dd26-9893797b4135"
      },
      "outputs": [
        {
          "name": "stdout",
          "output_type": "stream",
          "text": [
            "1\n",
            "8\n"
          ]
        }
      ],
      "source": [
        "# see above\n",
        "# we  call methods inside of a class\n",
        "# we call an attribute if its inside of a classw\n",
        "\n",
        "class Toy():\n",
        "  kind = \"car\"\n",
        "\n",
        "  def  __init__(self, rooftop, horn, wheels = 4):\n",
        "    self.rooftop = rooftop\n",
        "    self.horn = horn\n",
        "    self.wheels = wheels\n",
        "\n",
        "tonka_truck = Toy(1,1)\n",
        "hotwheels_car = Toy(2,3,8)\n",
        "\n",
        "print(tonka_truck.horn)\n",
        "print(hotwheels_car.wheels)\n",
        "\n",
        "#\n",
        "#my_daily_driver_wheels = 5\n",
        "#my_daily_driver_rooftop = \"sunroof\"\n"
      ]
    },
    {
      "cell_type": "markdown",
      "metadata": {
        "id": "2s8XKHGi3iMC"
      },
      "source": [
        "##### Accessing Class Attributes"
      ]
    },
    {
      "cell_type": "code",
      "execution_count": null,
      "metadata": {
        "colab": {
          "base_uri": "https://localhost:8080/"
        },
        "id": "AmmAoTks3iMC",
        "outputId": "6ce05980-3cbf-4886-95ad-77ea9b35efd3",
        "scrolled": true
      },
      "outputs": [
        {
          "name": "stdout",
          "output_type": "stream",
          "text": [
            "1\n",
            "8\n"
          ]
        }
      ],
      "source": [
        "# See Above\n",
        "print(tonka_truck.horn)\n",
        "print(hotwheels_car.wheels)"
      ]
    },
    {
      "cell_type": "markdown",
      "metadata": {
        "id": "HFGtMJig3iMD"
      },
      "source": [
        "##### Setting Defaults for Attributes"
      ]
    },
    {
      "cell_type": "code",
      "execution_count": null,
      "metadata": {
        "colab": {
          "base_uri": "https://localhost:8080/"
        },
        "id": "7AkN-uHe3iMD",
        "outputId": "0d0d1e8f-6629-414d-a6c5-86f6b43901e3"
      },
      "outputs": [
        {
          "name": "stdout",
          "output_type": "stream",
          "text": [
            "blue\n",
            "4\n",
            "5.7L\n"
          ]
        }
      ],
      "source": [
        "class Car():\n",
        "  engine = \"4.7L\"\n",
        "\n",
        "  def __init__(self,wheels):\n",
        "     self.wheels = wheels\n",
        "     self.color = \"blue\" #You cannot overwrite that value\n",
        "     #notice its not inluded in the code, yet is a valid method for car\n",
        "\n",
        "honda = Car(4)\n",
        "print(honda.color)\n",
        "print(honda.wheels)\n",
        "honda.engine = \"5.7L\"\n",
        "print(honda.engine)"
      ]
    },
    {
      "cell_type": "markdown",
      "metadata": {
        "id": "Oz9f61oM3iME"
      },
      "source": [
        "##### Changing Class Attributes <br>\n",
        "<p>Keep in mind there are global class attributes and then there are attributes only available to each class instance which won't effect other classes.</p>"
      ]
    },
    {
      "cell_type": "code",
      "execution_count": null,
      "metadata": {
        "id": "PvZfp5Ki3iME"
      },
      "outputs": [],
      "source": [
        "honda = Car(4)\n",
        "print(honda.color)\n",
        "print(honda.wheels)\n",
        "honda.engine = \"5.7L\"\n",
        "print(honda.engine)"
      ]
    },
    {
      "cell_type": "code",
      "execution_count": null,
      "metadata": {
        "id": "P3D2nbfT3iMF"
      },
      "outputs": [],
      "source": []
    },
    {
      "cell_type": "markdown",
      "metadata": {
        "id": "yMTzs_eB3iMF"
      },
      "source": [
        "##### In-Class Exercise #2 - Add a doors and seats attribute to your 'Car' class then print out two different instances with different doors and seats"
      ]
    },
    {
      "cell_type": "code",
      "execution_count": null,
      "metadata": {
        "colab": {
          "base_uri": "https://localhost:8080/"
        },
        "id": "4MsY_gdr3iMF",
        "outputId": "4d510344-ef9a-413f-d202-af5bfabc523d"
      },
      "outputs": [
        {
          "name": "stdout",
          "output_type": "stream",
          "text": [
            "4\n",
            "4\n",
            "2\n",
            "4\n",
            "2\n"
          ]
        }
      ],
      "source": [
        "class Car():\n",
        "  engine = \"4.7L\"\n",
        "\n",
        "  def __init__(self,wheels,make,doors,seats):\n",
        "    self.wheels = wheels\n",
        "    self.color = \"blue\" #You cannot overwrite that value\n",
        "    #notice its not inluded in the code, yet is a valid method for car\n",
        "    self.make =make\n",
        "    self.doors = doors\n",
        "    self.seats = seats\n",
        "    wheels = 4\n",
        "    color = 'blue'\n",
        "    side_mirrors = \"standard two view\"\n",
        "\n",
        "\n",
        "\n",
        "honda = Car(4,\"civic\",4,4)\n",
        "porshe = Car(4, \"cayanne\",2,2)\n",
        "toyota = Car(4, \"scion tc\",2,4)\n",
        "\n",
        "print(honda.seats)\n",
        "print(toyota.seats)\n",
        "print(porshe.seats)\n",
        "\n",
        "print(honda.doors)\n",
        "print(toyota.doors)"
      ]
    },
    {
      "cell_type": "markdown",
      "metadata": {
        "id": "IXFykDkK3iMG"
      },
      "source": [
        "## Class Methods <br>\n",
        "<p>While inside of a class, functions are referred to as 'methods'. If you hear someone mention methods, they're speaking about classes. Methods are essentially functions, but only callable on the instances of a class.</p>"
      ]
    },
    {
      "cell_type": "markdown",
      "metadata": {
        "id": "S8KZMBWa3iMG"
      },
      "source": [
        "##### Creating"
      ]
    },
    {
      "cell_type": "code",
      "execution_count": 2,
      "metadata": {
        "id": "qFbQ9t1k3iMG"
      },
      "outputs": [],
      "source": [
        "class ShoppingBag():\n",
        "  \"\"\"\n",
        "  The shopping bag class will handles, capacity, and items to place inside\n",
        "\n",
        "  Attributes for the class:\n",
        "  -handles expected to be an integer\n",
        "  -volum expected to be an integer\n",
        "  -items expected to be a list\n",
        "  \"\"\"\n",
        "  def __init__(self,handles,items = [], capacity = 10):\n",
        "    #what ever someone hands in handle saving it to the value 2\n",
        "    #self.handles is like putting it on the cload\n",
        "    #items is an empty list\n",
        "    self.handles = handles\n",
        "    self.items = items\n",
        "    self.capacity = capacity\n",
        "\n",
        "  def showSoopingBag(self):\n",
        "      if len(self.items) == 0:\n",
        "        print(\"you have no items\")\n",
        "      else:\n",
        "        print(\"you have items in your bag. \") #to do conditional if no items in bag\n",
        "        for item in self.items:\n",
        "          #the self word is kinda you want to bring it down from the cload\n",
        "          print(item)\n",
        "\n",
        "  def showCapacity(self):\n",
        "    print(f\"your capacity is ,{self.cacapcity-len(self.items())}\" )\n",
        "\n",
        "  def addToShopingBag(self):\n",
        "    if len(self.items) == self.capacity:\n",
        "      print(\"you have no more room\")\n",
        "      #self is to access the shopping bag, its a magic word to use\n",
        "    else:\n",
        "      product = input(\"what would like to add\")\n",
        "      self.items.append(product)\n",
        "\n",
        "  def changeBagCapacity(self, capacity):\n",
        "      self.capacity = capacity\n",
        "\n",
        "  def showHandles(self):\n",
        "    print(f'you have {self.handles} on your bag')\n",
        "\n"
      ]
    },
    {
      "cell_type": "markdown",
      "metadata": {
        "id": "W1H-NQ8t3iMH"
      },
      "source": [
        "##### Calling"
      ]
    },
    {
      "cell_type": "code",
      "execution_count": 11,
      "metadata": {
        "colab": {
          "base_uri": "https://localhost:8080/"
        },
        "id": "Y95PJYNS3iMH",
        "outputId": "7a6a5a49-3b4b-4145-fc23-0a8c96220969"
      },
      "outputs": [
        {
          "output_type": "stream",
          "name": "stdout",
          "text": [
            "what would you like to do \n",
            " -you may \n",
            " add \n",
            "-show \n",
            "-quit \n",
            " add\n",
            "what would like to addpizza\n",
            "what would you like to do \n",
            " -you may \n",
            " add \n",
            "-show \n",
            "-quit \n",
            " add\n",
            "what would like to addpizza\n",
            "what would you like to do \n",
            " -you may \n",
            " add \n",
            "-show \n",
            "-quit \n",
            " show\n",
            "what would you like to see \n",
            " -capacity \n",
            "-Handles \n",
            " shopping bagcapacity\n",
            "you have items in your bag. \n",
            "pizza\n",
            "pizza\n",
            "pizza\n",
            "pizza\n",
            "what would you like to do \n",
            " -you may \n",
            " add \n",
            "-show \n",
            "-quit \n",
            " quit\n",
            "you have items in your bag. \n",
            "pizza\n",
            "pizza\n",
            "pizza\n",
            "pizza\n",
            "Thanks for shopping\n"
          ]
        }
      ],
      "source": [
        "# See Above\n",
        "# we need to instatagate the class method make it exist\n",
        "\n",
        "wholeFoodsBag = ShoppingBag(2)\n",
        "\n",
        "def run():\n",
        "  while True:\n",
        "    responce = input(\"what would you like to do \\n -you may \\n add \\n-show \\n-quit \\n \")\n",
        "\n",
        "    if responce.lower()==\"quit\":\n",
        "      wholeFoodsBag.showSoopingBag()\n",
        "      print(\"Thanks for shopping\")\n",
        "      break\n",
        "    elif responce.lower() == \"add\":\n",
        "      wholeFoodsBag.addToShopingBag()\n",
        "\n",
        "    elif responce.lower() == \"show\":\n",
        "        showChoice = input(\"what would you like to see \\n -capacity \\n-Handles \\n shopping bag\")\n",
        "        if showChoice.lower == \"capacity\":\n",
        "          wholeFoodsBag.showCapacity()\n",
        "        elif showChoice.lower() == \"handles\":\n",
        "          wholeFoodsBag.handles()\n",
        "        else:\n",
        "          wholeFoodsBag.showSoopingBag()\n",
        "    else:\n",
        "      print(\"That is not a valid option, please enter add, show, or quit\"\n",
        "\n",
        "run()"
      ]
    },
    {
      "cell_type": "markdown",
      "metadata": {
        "id": "OGz6W9pv3iMI"
      },
      "source": [
        "##### Modifying an Attribute's Value Through a Method"
      ]
    },
    {
      "cell_type": "code",
      "execution_count": null,
      "metadata": {
        "id": "b9Fw5rrc3iMI"
      },
      "outputs": [],
      "source": [
        "#See Above"
      ]
    },
    {
      "cell_type": "markdown",
      "metadata": {
        "id": "3PyCB06z3iMJ"
      },
      "source": [
        "##### Incrementing an Attribute's Value Through a Method"
      ]
    },
    {
      "cell_type": "code",
      "execution_count": null,
      "metadata": {
        "id": "RsxZGOY33iMJ"
      },
      "outputs": [],
      "source": [
        "#See Above"
      ]
    },
    {
      "cell_type": "markdown",
      "metadata": {
        "id": "mTTK_SU73iMK"
      },
      "source": [
        "##### In-Class Exercise #3 - Add a method that takes in three parameters of year, doors and seats and prints out a formatted print statement with make, model, year, seats, and doors"
      ]
    },
    {
      "cell_type": "code",
      "execution_count": 5,
      "metadata": {
        "id": "7pP5rHWn3iMK",
        "colab": {
          "base_uri": "https://localhost:8080/"
        },
        "outputId": "5bd65c06-0aa2-4e57-d456-c1e3a5695a57"
      },
      "outputs": [
        {
          "output_type": "stream",
          "name": "stdout",
          "text": [
            "This car is from 2019 and is a Ford Explorer and has 4, 5 seats\n"
          ]
        }
      ],
      "source": [
        "from os import makedev\n",
        "# Create class with 2 paramters inside of the __init__ which are make and model\n",
        "\n",
        "# Inside of the Car class create a method that has 4 parameter in total (self,year,door,seats)\n",
        "\n",
        "# Output: This car is from 2019 and is a Ford Expolorer and has 4 doors and 5 seats\n",
        "\n",
        "class Car():\n",
        "\n",
        "  def __init__(self,make,model):\n",
        "      self.make = make\n",
        "      self.model = model\n",
        "\n",
        "  def output(self,year,doors,seats):\n",
        "    print(f'This car is from {year} and is a {self.make} {self.model} and has {doors}, {seats} seats')\n",
        "\n",
        "ford_expolorer = Car(\"Ford\", \"Explorer\")\n",
        "ford_expolorer.output(2019, 4,5)"
      ]
    },
    {
      "cell_type": "markdown",
      "metadata": {
        "id": "BA7IOL2C3iMK"
      },
      "source": [
        "## Inheritance <br>\n",
        "<p>You can create a child-parent relationship between two classes by using inheritance. What this allows you to do is have overriding methods, but also inherit traits from the parent class. Think of it as an actual parent and child, the child will inherit the parent's genes, as will the classes in OOP</p>"
      ]
    },
    {
      "cell_type": "markdown",
      "metadata": {
        "id": "tJ2NCXAi3iML"
      },
      "source": [
        "##### Syntax for Inheriting from a Parent Class"
      ]
    },
    {
      "cell_type": "code",
      "execution_count": 10,
      "metadata": {
        "id": "FYM4MgBH3iML",
        "colab": {
          "base_uri": "https://localhost:8080/"
        },
        "outputId": "f2580186-4f54-4a4c-be0f-74e09faaa0bb"
      },
      "outputs": [
        {
          "output_type": "stream",
          "name": "stdout",
          "text": [
            "This car has a 70-kwh battery\n",
            "This Electric car is from 2016 and is a tesla model s and has 4, 5 seats\n"
          ]
        }
      ],
      "source": [
        "class ElectricCar(Car):\n",
        "  def __init__(self,make,model):\n",
        "      super().__init__(make,model)\n",
        "      self.battery_size = 70\n",
        "\n",
        "  def describe_battery(self):\n",
        "    print(\"This car has a \" + str(self.battery_size)+ \"-kwh battery\")\n",
        "\n",
        "  def output(self,year,doors,seats):\n",
        "    print(f'This Electric car is from {year} and is a {self.make} {self.model} and has {doors}, {seats} seats')\n",
        "\n",
        "my_tesla = ElectricCar(\"tesla\",\"model s\")\n",
        "my_tesla.describe_battery()\n",
        "my_tesla.output(2016,4,5)"
      ]
    },
    {
      "cell_type": "markdown",
      "metadata": {
        "id": "5jVGLwep3iMM"
      },
      "source": [
        "##### The \\__init\\__() Method for a Child Class - super()"
      ]
    },
    {
      "cell_type": "code",
      "execution_count": null,
      "metadata": {
        "id": "hPSTesbn3iMM",
        "scrolled": true
      },
      "outputs": [],
      "source": [
        "# See above\n"
      ]
    },
    {
      "cell_type": "markdown",
      "metadata": {
        "id": "-2tR3MzU3iMM"
      },
      "source": [
        "##### Defining Attributes and Methods for the Child Class"
      ]
    },
    {
      "cell_type": "code",
      "execution_count": null,
      "metadata": {
        "id": "uJsQSTSp3iMN"
      },
      "outputs": [],
      "source": [
        "# See Above"
      ]
    },
    {
      "cell_type": "markdown",
      "metadata": {
        "id": "ZV7mXMKn3iMO"
      },
      "source": [
        "##### Method Overriding"
      ]
    },
    {
      "cell_type": "code",
      "execution_count": null,
      "metadata": {
        "id": "AmiSJNu43iMO"
      },
      "outputs": [],
      "source": [
        "# See Above"
      ]
    },
    {
      "cell_type": "markdown",
      "metadata": {
        "id": "4M572PGK3iMP"
      },
      "source": [
        "## Classes as Attributes <br>\n",
        "<p>Classes can also be used as attributes within another class. This is useful in situations where you need to keep variables locally stored, instead of globally stored.</p>"
      ]
    },
    {
      "cell_type": "code",
      "execution_count": null,
      "metadata": {
        "id": "ydW3nmGx3iMP"
      },
      "outputs": [],
      "source": []
    },
    {
      "cell_type": "markdown",
      "metadata": {
        "id": "d7RutGbZ3iMQ"
      },
      "source": [
        "# Exercises"
      ]
    },
    {
      "cell_type": "markdown",
      "metadata": {
        "id": "b92yARNq3iMQ"
      },
      "source": [
        "### Exercise 1 - Turn the shopping cart program from yesterday into an object-oriented program\n",
        "\n",
        "The comments in the cell below are there as a guide for thinking about the problem. However, if you feel a different way is best for you and your own thought process, please do what feels best for you by all means."
      ]
    },
    {
      "cell_type": "code",
      "execution_count": 77,
      "metadata": {
        "id": "E3OOVVbJ3iMQ",
        "colab": {
          "base_uri": "https://localhost:8080/",
          "height": 506
        },
        "outputId": "19ffb4e7-8014-4953-94a9-45fce411fa7b"
      },
      "outputs": [
        {
          "name": "stdout",
          "output_type": "stream",
          "text": [
            "what would you like to do \n",
            " -you may \n",
            " add \n",
            "-show \n",
            "-quit \n",
            " show\n",
            "what would you like to see \n",
            "-capacity \n",
            "-wheels \n",
            " Cartwheels\n"
          ]
        },
        {
          "output_type": "error",
          "ename": "NameError",
          "evalue": "ignored",
          "traceback": [
            "\u001b[0;31m---------------------------------------------------------------------------\u001b[0m",
            "\u001b[0;31mNameError\u001b[0m                                 Traceback (most recent call last)",
            "\u001b[0;32m<ipython-input-77-66412e01dc97>\u001b[0m in \u001b[0;36m<cell line: 67>\u001b[0;34m()\u001b[0m\n\u001b[1;32m     65\u001b[0m \u001b[0;34m\u001b[0m\u001b[0m\n\u001b[1;32m     66\u001b[0m \u001b[0mmy_cart\u001b[0m \u001b[0;34m=\u001b[0m \u001b[0mCart\u001b[0m\u001b[0;34m(\u001b[0m\u001b[0;36m4\u001b[0m\u001b[0;34m)\u001b[0m\u001b[0;34m\u001b[0m\u001b[0;34m\u001b[0m\u001b[0m\n\u001b[0;32m---> 67\u001b[0;31m \u001b[0mrun\u001b[0m\u001b[0;34m(\u001b[0m\u001b[0;34m)\u001b[0m\u001b[0;34m\u001b[0m\u001b[0;34m\u001b[0m\u001b[0m\n\u001b[0m",
            "\u001b[0;32m<ipython-input-77-66412e01dc97>\u001b[0m in \u001b[0;36mrun\u001b[0;34m()\u001b[0m\n\u001b[1;32m     55\u001b[0m     \u001b[0;32melif\u001b[0m \u001b[0mresponce\u001b[0m\u001b[0;34m.\u001b[0m\u001b[0mlower\u001b[0m\u001b[0;34m(\u001b[0m\u001b[0;34m)\u001b[0m \u001b[0;34m==\u001b[0m \u001b[0;34m\"show\"\u001b[0m\u001b[0;34m:\u001b[0m\u001b[0;34m\u001b[0m\u001b[0;34m\u001b[0m\u001b[0m\n\u001b[1;32m     56\u001b[0m         \u001b[0mshowChoice\u001b[0m \u001b[0;34m=\u001b[0m \u001b[0minput\u001b[0m\u001b[0;34m(\u001b[0m\u001b[0;34m\"what would you like to see \\n-capacity \\n-wheels \\n Cart\"\u001b[0m\u001b[0;34m)\u001b[0m\u001b[0;34m\u001b[0m\u001b[0;34m\u001b[0m\u001b[0m\n\u001b[0;32m---> 57\u001b[0;31m         \u001b[0;32mif\u001b[0m \u001b[0mresponse\u001b[0m\u001b[0;34m.\u001b[0m\u001b[0mlower\u001b[0m \u001b[0;34m==\u001b[0m \u001b[0;34m\"capacity\"\u001b[0m\u001b[0;34m:\u001b[0m\u001b[0;34m\u001b[0m\u001b[0;34m\u001b[0m\u001b[0m\n\u001b[0m\u001b[1;32m     58\u001b[0m               \u001b[0mwholeFoodscart\u001b[0m\u001b[0;34m.\u001b[0m\u001b[0mshowCapacity\u001b[0m\u001b[0;34m(\u001b[0m\u001b[0;34m)\u001b[0m\u001b[0;34m\u001b[0m\u001b[0;34m\u001b[0m\u001b[0m\n\u001b[1;32m     59\u001b[0m         \u001b[0;32melif\u001b[0m \u001b[0mresponse\u001b[0m\u001b[0;34m.\u001b[0m\u001b[0mlower\u001b[0m\u001b[0;34m(\u001b[0m\u001b[0;34m)\u001b[0m \u001b[0;34m==\u001b[0m \u001b[0;34m\"wheels\"\u001b[0m\u001b[0;34m:\u001b[0m\u001b[0;34m\u001b[0m\u001b[0;34m\u001b[0m\u001b[0m\n",
            "\u001b[0;31mNameError\u001b[0m: name 'response' is not defined"
          ]
        }
      ],
      "source": [
        "# Create a class called cart that retains items and has methods to add, remove, and show\n",
        "\n",
        "class Cart():\n",
        "  \"\"\"\n",
        "  The Cart class will wheels, capacity, and items to place inside\n",
        "\n",
        "  Attributes for the class:\n",
        "  -wheels expected to be an integer\n",
        "  -volum expected to be an integer\n",
        "  -items expected to be a list\n",
        "  \"\"\"\n",
        "  def __init__(self,wheels,items = [], capacity = 10):\n",
        "    #what ever someone hands in handle saving it to the value 2\n",
        "    #self.wheels is like putting it on the cload\n",
        "    #items is an empty list\n",
        "    self.wheels = wheels\n",
        "    self.items = items\n",
        "    self.capacity = capacity\n",
        "\n",
        "  def show(self):\n",
        "      if len(self.items) == 0:\n",
        "        print(\"you have no items\")\n",
        "      else:\n",
        "        print(\"you have items in your Cart. \") #to do conditional if no items in bag\n",
        "        for item in self.items:\n",
        "          #the self word is kinda you want to bring it down from the cload\n",
        "          print(item)\n",
        "\n",
        "  def showCapacity(self):\n",
        "    print(f\"your capacity is ,{self.cacapcity-len(self.items())}\" )\n",
        "\n",
        "  def addcart(self):\n",
        "    if len(self.items) == self.capacity:\n",
        "      print(\"you have no more room\")\n",
        "      #self is to access the cart, its a magic word to use\n",
        "    else:\n",
        "      product = input(\"what would like to add\")\n",
        "      self.items.append(product)\n",
        "\n",
        "  def changecart(self, capacity):\n",
        "      self.capacity = capacity\n",
        "\n",
        "def run():\n",
        "  while True:\n",
        "    responce = input(\"what would you like to do \\n -you may \\n add \\n-show \\n-quit \\n \")\n",
        "\n",
        "    if responce.lower()==\"quit\":\n",
        "      cart.showCapacity()\n",
        "      print(\"Thanks for shopping\")\n",
        "      break\n",
        "    elif responce.lower() == \"add\":\n",
        "        cart.addcart()\n",
        "\n",
        "    elif responce.lower() == \"show\":\n",
        "        showChoice = input(\"what would you like to see \\n-capacity \\n-wheels \\n Cart\")\n",
        "        if responce.lower == \"capacity\":\n",
        "              wholeFoodscart.showCapacity()\n",
        "        elif responce.lower() == \"wheels\":\n",
        "              wholeFoodscart.wheels()\n",
        "        else:\n",
        "              wholeFoodscart.showcart()\n",
        "    else:\n",
        "        print(\"That is not a valid option, please enter add, show, or quit\")\n",
        "\n",
        "my_cart = Cart(4)\n",
        "run()"
      ]
    },
    {
      "cell_type": "markdown",
      "metadata": {
        "id": "NKlHaGF83iMR"
      },
      "source": [
        "### Exercise 2 - Write a Python class which has two methods get_String and print_String. get_String accept a string from the user and print_String print the string in upper case"
      ]
    },
    {
      "cell_type": "code",
      "execution_count": 69,
      "metadata": {
        "id": "dHe-RTOI3iMS",
        "colab": {
          "base_uri": "https://localhost:8080/"
        },
        "outputId": "c226c53f-dccf-4537-848c-d28d86a8f50c"
      },
      "outputs": [
        {
          "output_type": "stream",
          "name": "stdout",
          "text": [
            "Input a charaters and I will output in upper caseTesting\n",
            "TESTING\n"
          ]
        }
      ],
      "source": [
        "class pythonStrings():\n",
        "\n",
        "  def get_String(self):\n",
        "    self.responce = input(\"Input a charaters and I will output in upper case\")\n",
        "  def print_Upper_Case(self):\n",
        "    if self.responce == \" \":\n",
        "      print(\"please use get string frist\")\n",
        "    else:\n",
        "       print(self.responce.upper())\n",
        "my_string = pythonStrings()\n",
        "my_string.get_String()\n",
        "my_string.print_Upper_Case()\n",
        "\n"
      ]
    }
  ],
  "metadata": {
    "colab": {
      "provenance": []
    },
    "kernelspec": {
      "display_name": "Python 3 (ipykernel)",
      "language": "python",
      "name": "python3"
    },
    "language_info": {
      "codemirror_mode": {
        "name": "ipython",
        "version": 3
      },
      "file_extension": ".py",
      "mimetype": "text/x-python",
      "name": "python",
      "nbconvert_exporter": "python",
      "pygments_lexer": "ipython3",
      "version": "3.11.3"
    }
  },
  "nbformat": 4,
  "nbformat_minor": 0
}